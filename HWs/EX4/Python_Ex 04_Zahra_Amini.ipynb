{
 "cells": [
  {
   "cell_type": "markdown",
   "id": "282b2594",
   "metadata": {},
   "source": [
    "# Table of Contents\n",
    "\n",
    "\n",
    "01. [Exercise 01](#ex01)\n",
    "02. [The End](#end)\n"
   ]
  },
  {
   "cell_type": "markdown",
   "id": "79b61276",
   "metadata": {},
   "source": [
    "<a id='ex01'></a>\n",
    "# Exercise 01\n",
    "\n",
    "### Get a number as circle diameter, and calculate the circle area!\n",
    "\n",
    "The following is a list of 10 students ages:<br>\n",
    "ages = [19, 22, 19, 24, 20, 25, 26, 24, 25, 24]\n",
    "\n",
    "1. Sort the list and find the min and max age. (50)\n",
    "2. Add the min age and the max age again to the list.(50)\n",
    "3. Find the median age (one middle item or two middle items divided by two).(100)\n",
    "4. Find the average age (sum of all items divided by their number ).(100)\n",
    "5. Find the range of the ages (max minus min).(50)\n",
    "6. Compare the value of (min - average) and (max - average), use abs() method.(100)"
   ]
  },
  {
   "cell_type": "code",
   "execution_count": 1,
   "id": "2aad8455",
   "metadata": {},
   "outputs": [],
   "source": [
    "ages = [19, 22, 19, 24, 20, 25, 26, 24, 25, 24]"
   ]
  },
  {
   "cell_type": "markdown",
   "id": "ab3e284e",
   "metadata": {},
   "source": [
    "#### 1. Sort the list and find the min and max age. (50)"
   ]
  },
  {
   "cell_type": "code",
   "execution_count": 2,
   "id": "2dcc95da",
   "metadata": {},
   "outputs": [
    {
     "name": "stdout",
     "output_type": "stream",
     "text": [
      "The min of [19, 19, 20, 22, 24, 24, 24, 25, 25, 26] is 19\n",
      "The max of [19, 19, 20, 22, 24, 24, 24, 25, 25, 26] is 26\n"
     ]
    }
   ],
   "source": [
    "ages.sort()\n",
    "\n",
    "print(\"The min of {} is {}\".format(ages, min(ages)))\n",
    "\n",
    "print(\"The max of {} is {}\".format(ages, max(ages)))"
   ]
  },
  {
   "cell_type": "markdown",
   "id": "382f015a",
   "metadata": {},
   "source": [
    "#### 2. Add the min age and the max age again to the list.(50)"
   ]
  },
  {
   "cell_type": "code",
   "execution_count": 3,
   "id": "d56fc944",
   "metadata": {},
   "outputs": [
    {
     "name": "stdout",
     "output_type": "stream",
     "text": [
      "the list of ages before add new elements is: [19, 19, 20, 22, 24, 24, 24, 25, 25, 26]\n",
      "the list of ages after add new elements is: [19, 19, 20, 22, 24, 24, 24, 25, 25, 26, 19, 26]\n"
     ]
    }
   ],
   "source": [
    "print(\"the list of ages before add new elements is: {}\".format(ages))\n",
    "\n",
    "min_age = min(ages)\n",
    "max_age = max(ages)\n",
    "\n",
    "ages.extend([min_age, max_age])\n",
    "\n",
    "print(\"the list of ages after add new elements is: {}\".format(ages))"
   ]
  },
  {
   "cell_type": "markdown",
   "id": "9257e96c",
   "metadata": {},
   "source": [
    "#### 3. Find the median age (one middle item or two middle items divided by two).(100)"
   ]
  },
  {
   "cell_type": "code",
   "execution_count": 4,
   "id": "8024a090",
   "metadata": {},
   "outputs": [],
   "source": [
    "def middle_list(input_list):\n",
    "    list_len = len(input_list)\n",
    "    \n",
    "    input_list.sort()\n",
    "    \n",
    "    middle = len(input_list) // 2\n",
    "    \n",
    "    if (list_len % 2 ==0):\n",
    "        print(\"The middle of {} is: {}\".format(ages, input_list[middle]))\n",
    "    else:\n",
    "        \n",
    "        print(\"The middle of {} is: {}\".format(ages, (input_list[middle] + input_list[middle+1]) / 2))"
   ]
  },
  {
   "cell_type": "code",
   "execution_count": 5,
   "id": "bbdc4ce2",
   "metadata": {},
   "outputs": [
    {
     "name": "stdout",
     "output_type": "stream",
     "text": [
      "The middle of [19, 19, 19, 20, 22, 24, 24, 24, 25, 25, 26, 26] is: 24\n"
     ]
    }
   ],
   "source": [
    "middle_list(ages)"
   ]
  },
  {
   "cell_type": "markdown",
   "id": "78065895",
   "metadata": {},
   "source": [
    "#### 4. Find the average age (sum of all items divided by their number ).(100)"
   ]
  },
  {
   "cell_type": "code",
   "execution_count": 6,
   "id": "2257faba",
   "metadata": {},
   "outputs": [
    {
     "name": "stdout",
     "output_type": "stream",
     "text": [
      "The average of [19, 19, 19, 20, 22, 24, 24, 24, 25, 25, 26, 26] is: 22.75\n"
     ]
    }
   ],
   "source": [
    "average = sum(ages) / len(ages)\n",
    "print(\"The average of {} is: {}\".format(ages, average))"
   ]
  },
  {
   "cell_type": "markdown",
   "id": "6f019385",
   "metadata": {},
   "source": [
    "#### 5. Find the range of the ages (max minus min).(50)"
   ]
  },
  {
   "cell_type": "code",
   "execution_count": 7,
   "id": "8e1a1927",
   "metadata": {},
   "outputs": [
    {
     "name": "stdout",
     "output_type": "stream",
     "text": [
      "The range of ages is: 7\n"
     ]
    }
   ],
   "source": [
    "print(\"The range of ages is: {}\".format(max(ages) - min(ages)))"
   ]
  },
  {
   "cell_type": "markdown",
   "id": "27cdd7b2",
   "metadata": {},
   "source": [
    "#### 6. Compare the value of (min - average) and (max - average), use abs() method.(100)"
   ]
  },
  {
   "cell_type": "code",
   "execution_count": 8,
   "id": "0e16001f",
   "metadata": {},
   "outputs": [
    {
     "name": "stdout",
     "output_type": "stream",
     "text": [
      "max - average is smaller than min - avrage\n"
     ]
    }
   ],
   "source": [
    "if (abs(min(ages) - average) < abs(max(ages) - average)) is True:\n",
    "    print(\"min - avrage is smaller than max - average\")\n",
    "else:\n",
    "    print(\"max - average is smaller than min - avrage\")"
   ]
  },
  {
   "cell_type": "markdown",
   "id": "1edbbdbd",
   "metadata": {},
   "source": [
    "<a id='end'></a>\n",
    "# Finished, thanks for your attention 🙏🌹"
   ]
  }
 ],
 "metadata": {
  "kernelspec": {
   "display_name": "Python 3 (ipykernel)",
   "language": "python",
   "name": "python3"
  },
  "language_info": {
   "codemirror_mode": {
    "name": "ipython",
    "version": 3
   },
   "file_extension": ".py",
   "mimetype": "text/x-python",
   "name": "python",
   "nbconvert_exporter": "python",
   "pygments_lexer": "ipython3",
   "version": "3.9.12"
  }
 },
 "nbformat": 4,
 "nbformat_minor": 5
}
