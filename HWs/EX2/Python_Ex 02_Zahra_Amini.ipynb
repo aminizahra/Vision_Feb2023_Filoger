{
 "cells": [
  {
   "cell_type": "markdown",
   "id": "282b2594",
   "metadata": {},
   "source": [
    "# Table of Contents\n",
    "\n",
    "\n",
    "01. [Necessary Libraries](#Lib)\n",
    "2. [Exercise 01](#ex01)\n",
    "3. [Exercise 02](#ex02)\n",
    "4. [Exercise 03](#ex03)\n",
    "5. [Exercise 04](#ex04)\n",
    "6. [Exercise 05](#ex05)\n",
    "7. [Exercise 06](#ex06)\n",
    "8. [The End](#end)\n"
   ]
  },
  {
   "cell_type": "markdown",
   "id": "b972d15b",
   "metadata": {},
   "source": [
    "<a id='Lib'></a>\n",
    "# Necessary Libraries"
   ]
  },
  {
   "cell_type": "code",
   "execution_count": 1,
   "id": "c35c8f20",
   "metadata": {},
   "outputs": [],
   "source": [
    "import math"
   ]
  },
  {
   "cell_type": "markdown",
   "id": "79b61276",
   "metadata": {},
   "source": [
    "<a id='ex01'></a>\n",
    "# Exercise 01\n",
    "\n",
    "### Get a number as circle diameter, and calculate the circle area!"
   ]
  },
  {
   "cell_type": "code",
   "execution_count": 2,
   "id": "6dfda7d9",
   "metadata": {},
   "outputs": [],
   "source": [
    "def CircleArea():\n",
    "    \n",
    "    Radius = float(input(\"Enter the diameter of the circle: \")) / 2 #Radius = diameter/2\n",
    "    \n",
    "    Area = math.pi * (Radius ** 2)\n",
    "    \n",
    "    print(\"\\n\\t\", 'Circle area is {:.3f}'.format(Area))\n",
    "    \n",
    "    pass"
   ]
  },
  {
   "cell_type": "code",
   "execution_count": 3,
   "id": "1bea2416",
   "metadata": {},
   "outputs": [
    {
     "name": "stdout",
     "output_type": "stream",
     "text": [
      "Enter the diameter of the circle: 18\n",
      "\n",
      "\t Circle area is 254.469\n"
     ]
    }
   ],
   "source": [
    "CircleArea()"
   ]
  },
  {
   "cell_type": "markdown",
   "id": "21b537b3",
   "metadata": {},
   "source": [
    "<a id='ex02'></a>\n",
    "# Exercise 02\n",
    "\n",
    "### Get width, height and length ,then calculate and print the surface area and volume of a cuboid!"
   ]
  },
  {
   "cell_type": "code",
   "execution_count": 4,
   "id": "b3c6d7e3",
   "metadata": {},
   "outputs": [],
   "source": [
    "class Cuboid():\n",
    "    \n",
    "    def __init__(self):\n",
    "        \n",
    "        self.Height = float(input(\"Enter the height of the cuboid: \"))\n",
    "        self.Width = float(input(\"Enter the width of the cuboid: \"))\n",
    "        self.Length = float(input(\"Enter the length of the cuboid: \")) \n",
    "\n",
    "    def SurfaceArea(self):\n",
    "        return 2 * (self.Length*self.Width + self.Width*self.Height + self.Height*self.Length) # 2 (lw + wh + hl)\n",
    "    \n",
    "    def volume(self):\n",
    "        return self.Width * self.Height * self.Length\n",
    "    \n",
    "    def Print(self):\n",
    "        print(\"\\n\\t\", \"Volume of cuboid is {:.2f} and Surface area of cuboid is {:.3f}!\"\n",
    "              .format(NewCuboid.volume(), NewCuboid.SurfaceArea()), \"\\n\")"
   ]
  },
  {
   "cell_type": "code",
   "execution_count": 5,
   "id": "cfd0a38e",
   "metadata": {},
   "outputs": [
    {
     "name": "stdout",
     "output_type": "stream",
     "text": [
      "Enter the height of the cuboid: 18\n",
      "Enter the width of the cuboid: 4\n",
      "Enter the length of the cuboid: 5\n",
      "\n",
      "\t Volume of cuboid is 360.00 and Surface area of cuboid is 364.000! \n",
      "\n"
     ]
    }
   ],
   "source": [
    "NewCuboid = Cuboid()\n",
    "\n",
    "NewCuboid.Print()"
   ]
  },
  {
   "cell_type": "markdown",
   "id": "3d3bdaa5",
   "metadata": {},
   "source": [
    "<a id='ex03'></a>\n",
    "# Exercise 03\n",
    "\n",
    "### input(2 number) and print sum, division, subtraction, multiplication"
   ]
  },
  {
   "cell_type": "code",
   "execution_count": 6,
   "id": "afcfe8d9",
   "metadata": {},
   "outputs": [],
   "source": [
    "def GetNumber():\n",
    "    \n",
    "    Number1 = float(input(\"Enter the first number:\"))\n",
    "    \n",
    "    Number2 = float(input(\"Enter the second number:\"))\n",
    "    \n",
    "    return Number1, Number2"
   ]
  },
  {
   "cell_type": "code",
   "execution_count": 7,
   "id": "fb1fdbdf",
   "metadata": {},
   "outputs": [],
   "source": [
    "def GetOperator():\n",
    "    \n",
    "    print(\"Select the operation + - * / \")\n",
    "    Operator = input(\"Enter the operator:\")\n",
    "    \n",
    "    return Operator"
   ]
  },
  {
   "cell_type": "code",
   "execution_count": 8,
   "id": "9ac7a273",
   "metadata": {},
   "outputs": [],
   "source": [
    "def Sum(num1, num2):\n",
    "    \n",
    "    print(\"The sum of {} and {} is {}\".format(num1, num2, num1 + num2))\n",
    "    \n",
    "    pass"
   ]
  },
  {
   "cell_type": "code",
   "execution_count": 9,
   "id": "c1c13567",
   "metadata": {},
   "outputs": [],
   "source": [
    "def Subtraction(num1, num2):\n",
    "\n",
    "    print(\"The subtraction of {} and {} is {}\".format(num1, num2, num1 - num2))\n",
    "    \n",
    "    pass"
   ]
  },
  {
   "cell_type": "code",
   "execution_count": 10,
   "id": "ebf11438",
   "metadata": {},
   "outputs": [],
   "source": [
    "def Multiplication(num1, num2):\n",
    "    \n",
    "    print(\"The multiplication of {} and {} is {}\".format(num1, num2, num1 * num2))\n",
    "    \n",
    "    pass"
   ]
  },
  {
   "cell_type": "code",
   "execution_count": 11,
   "id": "7c319a2c",
   "metadata": {},
   "outputs": [],
   "source": [
    "def Division(num1, num2):\n",
    "    try:\n",
    "        print(\"The division of {} and {} is {}\".format(num1, num2, num1 / num2))\n",
    "    except ZeroDivisionError:\n",
    "        print(\"Oops!  We can't divide the number by zero\", \"\\n\")"
   ]
  },
  {
   "cell_type": "code",
   "execution_count": 12,
   "id": "53471ab9",
   "metadata": {},
   "outputs": [],
   "source": [
    "def SimpleCalculator():\n",
    "    Flag = \"y\"\n",
    "    while(Flag == \"y\"):\n",
    "        \n",
    "        Number1, Number2 = GetNumber()\n",
    "        \n",
    "        Operator = GetOperator()\n",
    "        \n",
    "\n",
    "        if Operator == \"+\":\n",
    "            Sum(Number1, Number2)\n",
    "\n",
    "        if Operator == \"-\":\n",
    "            Subtraction(Number1, Number2)\n",
    "\n",
    "        if Operator == \"*\":\n",
    "            Multiplication(Number1, Number2)\n",
    "\n",
    "        if Operator == \"/\":\n",
    "            Division(Number1, Number2)\n",
    "        \n",
    "        Flag = input(\"Do you want to continue? y/n\")\n",
    "        \n",
    "        if Flag == \"n\":\n",
    "            print(\"Well done! :))\")\n",
    "            break\n",
    "    pass"
   ]
  },
  {
   "cell_type": "code",
   "execution_count": 13,
   "id": "e841dfd8",
   "metadata": {},
   "outputs": [
    {
     "name": "stdout",
     "output_type": "stream",
     "text": [
      "Enter the first number:8\n",
      "Enter the second number:4\n",
      "Select the operation + - * / \n",
      "Enter the operator:+\n",
      "The sum of 8.0 and 4.0 is 12.0\n",
      "Do you want to continue? y/ny\n",
      "Enter the first number:8\n",
      "Enter the second number:4\n",
      "Select the operation + - * / \n",
      "Enter the operator:/\n",
      "The division of 8.0 and 4.0 is 2.0\n",
      "Do you want to continue? y/ny\n",
      "Enter the first number:8\n",
      "Enter the second number:4\n",
      "Select the operation + - * / \n",
      "Enter the operator:-\n",
      "The subtraction of 8.0 and 4.0 is 4.0\n",
      "Do you want to continue? y/ny\n",
      "Enter the first number:8\n",
      "Enter the second number:4\n",
      "Select the operation + - * / \n",
      "Enter the operator:*\n",
      "The multiplication of 8.0 and 4.0 is 32.0\n",
      "Do you want to continue? y/nn\n",
      "Well done! :))\n"
     ]
    }
   ],
   "source": [
    "SimpleCalculator()"
   ]
  },
  {
   "cell_type": "markdown",
   "id": "21a15130",
   "metadata": {},
   "source": [
    "## <a id='ex04'></a>\n",
    "# Exercise 04\n",
    "\n",
    "### Get two string, concatenate them and print the result!"
   ]
  },
  {
   "cell_type": "code",
   "execution_count": 14,
   "id": "d2ab32e0",
   "metadata": {},
   "outputs": [
    {
     "name": "stdout",
     "output_type": "stream",
     "text": [
      "Enter the first string: String_1\n",
      "Enter the second string: String_2\n",
      "\n",
      "\t result is \"String_1 String_2\"\n"
     ]
    }
   ],
   "source": [
    "String1 = input(\"Enter the first string: \")\n",
    "\n",
    "String2 = input(\"Enter the second string: \")\n",
    "\n",
    "print(\"\\n\\t\", 'result is \"{}\"'.format(\" \".join([String1, String2])))"
   ]
  },
  {
   "cell_type": "markdown",
   "id": "6ad7048c",
   "metadata": {},
   "source": [
    "<a id='ex05'></a>\n",
    "# Exercise 05\n",
    "\n",
    "### Write a Python program to convert Fahrenheit to Celcius.\n"
   ]
  },
  {
   "cell_type": "code",
   "execution_count": 15,
   "id": "182f068d",
   "metadata": {},
   "outputs": [],
   "source": [
    "def TemperatureUnitConversion():\n",
    "    \n",
    "    Temperature = float(input(\"Enter the temperature: \"))\n",
    "    \n",
    "    print(\"Which unit conversion to? FC or CF\",\"\\n\", \"FC: Convert unit from Fahrenheit to Celsius\",\n",
    "          \"\\n\", \"CF: Convert unit from Celsius to Fahrenheit\")\n",
    "    \n",
    "    Unite = input(\"\")\n",
    "    \n",
    "    if Unite == \"FC\":\n",
    "        print (\"{} degree Fahrenheit is equal to {} degree Celsius\".format(Temperature, ((Temperature - 32) * 5/9)))\n",
    "        \n",
    "    if Unite == \"CF\":\n",
    "        print (\"{} degree Celsius is equal to {} degree Fahrenheit\".format(Temperature, ((Temperature * 9/5) + 32)))\n",
    "    pass"
   ]
  },
  {
   "cell_type": "code",
   "execution_count": 16,
   "id": "86801961",
   "metadata": {},
   "outputs": [
    {
     "name": "stdout",
     "output_type": "stream",
     "text": [
      "Enter the temperature: 86\n",
      "Which unit conversion to? FC or CF \n",
      " FC: Convert unit from Fahrenheit to Celsius \n",
      " CF: Convert unit from Celsius to Fahrenheit\n",
      "FC\n",
      "86.0 degree Fahrenheit is equal to 30.0 degree Celsius\n"
     ]
    }
   ],
   "source": [
    "TemperatureUnitConversion()"
   ]
  },
  {
   "cell_type": "markdown",
   "id": "912971aa",
   "metadata": {},
   "source": [
    "###### <a id='ex06'></a>\n",
    "# Exercise 06\n",
    "\n",
    "### Write a code to create following pattern!\n",
    "\n",
    "    #\n",
    "    ##\n",
    "    ### \n",
    "    ####\n",
    "    ##### \n",
    "    ######\n",
    "    #######"
   ]
  },
  {
   "cell_type": "code",
   "execution_count": 17,
   "id": "1d10431b",
   "metadata": {},
   "outputs": [],
   "source": [
    "def PyramidPatterns():\n",
    "    \n",
    "    Number = int(input(\"Enter the size of the pyramid: \"))\n",
    "    print(\"\\n\")\n",
    "    for row in range(Number):\n",
    "        for column in range(0, row+1):\n",
    "            print(\"#\", end=\"\")\n",
    "        print(\"\\n\")\n",
    "        \n",
    "    pass"
   ]
  },
  {
   "cell_type": "code",
   "execution_count": 18,
   "id": "e4b2b128",
   "metadata": {},
   "outputs": [
    {
     "name": "stdout",
     "output_type": "stream",
     "text": [
      "Enter the size of the pyramid: 7\n",
      "\n",
      "\n",
      "#\n",
      "\n",
      "##\n",
      "\n",
      "###\n",
      "\n",
      "####\n",
      "\n",
      "#####\n",
      "\n",
      "######\n",
      "\n",
      "#######\n",
      "\n"
     ]
    }
   ],
   "source": [
    "PyramidPatterns()"
   ]
  },
  {
   "cell_type": "markdown",
   "id": "1edbbdbd",
   "metadata": {},
   "source": [
    "<a id='end'></a>\n",
    "# Finished, thanks for your attention 🙏🌹"
   ]
  }
 ],
 "metadata": {
  "kernelspec": {
   "display_name": "Python 3 (ipykernel)",
   "language": "python",
   "name": "python3"
  },
  "language_info": {
   "codemirror_mode": {
    "name": "ipython",
    "version": 3
   },
   "file_extension": ".py",
   "mimetype": "text/x-python",
   "name": "python",
   "nbconvert_exporter": "python",
   "pygments_lexer": "ipython3",
   "version": "3.9.12"
  }
 },
 "nbformat": 4,
 "nbformat_minor": 5
}
