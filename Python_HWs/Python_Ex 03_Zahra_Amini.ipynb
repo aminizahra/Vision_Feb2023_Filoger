{
 "cells": [
  {
   "cell_type": "markdown",
   "id": "282b2594",
   "metadata": {},
   "source": [
    "# Table of Contents\n",
    "\n",
    "\n",
    "01. [Necessary Libraries](#Lib)\n",
    "2. [Exercise 01](#ex01)\n",
    "3. [Exercise 02](#ex02)\n",
    "4. [Exercise 03](#ex03)\n",
    "5. [Exercise 04](#ex04)\n",
    "6. [Exercise 05](#ex05)\n",
    "7. [Exercise 06](#ex06)\n",
    "8. [The End](#end)\n"
   ]
  },
  {
   "cell_type": "markdown",
   "id": "b972d15b",
   "metadata": {},
   "source": [
    "<a id='Lib'></a>\n",
    "# Necessary Libraries"
   ]
  },
  {
   "cell_type": "code",
   "execution_count": 1,
   "id": "c35c8f20",
   "metadata": {},
   "outputs": [],
   "source": [
    "import random"
   ]
  },
  {
   "cell_type": "markdown",
   "id": "79b61276",
   "metadata": {},
   "source": [
    "<a id='ex01'></a>\n",
    "# Exercise 01\n",
    "\n",
    "### Write a program in Python to display the Factorial of a number"
   ]
  },
  {
   "cell_type": "code",
   "execution_count": 2,
   "id": "d5f1a700",
   "metadata": {},
   "outputs": [],
   "source": [
    "def Factorial(number):\n",
    "    return 1 if (number==1 or number==0) else number * Factorial(number - 1);  "
   ]
  },
  {
   "cell_type": "code",
   "execution_count": 3,
   "id": "de8dd6a8",
   "metadata": {},
   "outputs": [
    {
     "name": "stdout",
     "output_type": "stream",
     "text": [
      "We want to calculate factorail a number; Enter the number: 9\n",
      "Factorial of 9 is 362880 !\n"
     ]
    }
   ],
   "source": [
    "number = int(input(\"We want to calculate factorail a number; Enter the number: \"))\n",
    "\n",
    "print(\"Factorial of {} is {} !\".format(number, Factorial(number)))"
   ]
  },
  {
   "cell_type": "markdown",
   "id": "21b537b3",
   "metadata": {},
   "source": [
    "<a id='ex02'></a>\n",
    "# Exercise 02\n",
    "\n",
    "### Generate random integer number and Write a program to guess the number."
   ]
  },
  {
   "cell_type": "code",
   "execution_count": 4,
   "id": "b3c6d7e3",
   "metadata": {},
   "outputs": [],
   "source": [
    "def guess_number():\n",
    "    \n",
    "    random_number = random.randint(1, 100)\n",
    "    flag = False\n",
    "    \n",
    "    while(not flag):\n",
    "        \n",
    "        guess_number = int(input(\"Guess a number between 1 to 100: \"))\n",
    "        \n",
    "        if guess_number == random_number:\n",
    "            print(\"Correct, good job\")\n",
    "            flag = True\n",
    "        \n",
    "        elif guess_number < random_number:\n",
    "            print(\"Wrong, Guess the higher number!\")\n",
    "            \n",
    "        elif guess_number > random_number:\n",
    "            print(\"Wrong, Guess the lower number!\")"
   ]
  },
  {
   "cell_type": "code",
   "execution_count": 5,
   "id": "cfd0a38e",
   "metadata": {},
   "outputs": [
    {
     "name": "stdout",
     "output_type": "stream",
     "text": [
      "Guess a number between 1 to 100: 26\n",
      "Wrong, Guess the higher number!\n",
      "Guess a number between 1 to 100: 30\n",
      "Wrong, Guess the higher number!\n",
      "Guess a number between 1 to 100: 40\n",
      "Wrong, Guess the higher number!\n",
      "Guess a number between 1 to 100: 60\n",
      "Wrong, Guess the lower number!\n",
      "Guess a number between 1 to 100: 55\n",
      "Wrong, Guess the lower number!\n",
      "Guess a number between 1 to 100: 50\n",
      "Correct, good job\n"
     ]
    }
   ],
   "source": [
    "guess_number()"
   ]
  },
  {
   "cell_type": "markdown",
   "id": "3d3bdaa5",
   "metadata": {},
   "source": [
    "<a id='ex03'></a>\n",
    "# Exercise 03\n",
    "\n",
    "### Print the following pattern using loops:\n",
    "\n",
    "0 x 0 = 0 <br>\n",
    "1 x 1 = 1 <br>\n",
    "2 x 2 = 4 <br>\n",
    "3 x 3 = 9 <br>\n",
    "4 x 4 = 16 <br>\n",
    "5 x 5 = 25 <br>\n",
    "6 x 6 = 36 <br>\n",
    "7 x 7 = 49 <br>\n",
    "8 x 8 = 64 <br>\n",
    "9 x 9 = 81 <br>\n",
    "10 x 10 = 100\n"
   ]
  },
  {
   "cell_type": "code",
   "execution_count": 6,
   "id": "afcfe8d9",
   "metadata": {},
   "outputs": [
    {
     "name": "stdout",
     "output_type": "stream",
     "text": [
      "0 x 0 = 0\n",
      "1 x 1 = 1\n",
      "2 x 2 = 4\n",
      "3 x 3 = 9\n",
      "4 x 4 = 16\n",
      "5 x 5 = 25\n",
      "6 x 6 = 36\n",
      "7 x 7 = 49\n",
      "8 x 8 = 64\n",
      "9 x 9 = 81\n",
      "10 x 10 = 100\n"
     ]
    }
   ],
   "source": [
    "for number in range(0, 11):\n",
    "    print(\"{} x {} = {}\".format(number, number, number * number))"
   ]
  },
  {
   "cell_type": "markdown",
   "id": "21a15130",
   "metadata": {},
   "source": [
    "## <a id='ex04'></a>\n",
    "# Exercise 04\n",
    "\n",
    "### Use for loop to iterate from 0 to n (input number) and print the sum of all numbers."
   ]
  },
  {
   "cell_type": "code",
   "execution_count": 7,
   "id": "d2ab32e0",
   "metadata": {},
   "outputs": [
    {
     "name": "stdout",
     "output_type": "stream",
     "text": [
      "We want to calculate sum of 'n' natural numbers; Enter the n: 100\n",
      "The sum of all numbers is 5050\n"
     ]
    }
   ],
   "source": [
    "def summ_all():\n",
    "    \"This is the Function to calculate sum of 'n' natural numbers\"\n",
    "    number = int(input(\"We want to calculate sum of 'n' natural numbers; Enter the n: \"))\n",
    "    sum_num = 0\n",
    "    for num in range (0, number+1):\n",
    "        sum_num += num\n",
    "    return sum_num\n",
    "print(\"The sum of all numbers is {}\".format(summ_all()))"
   ]
  },
  {
   "cell_type": "markdown",
   "id": "6ad7048c",
   "metadata": {},
   "source": [
    "<a id='ex05'></a>\n",
    "# Exercise 05\n",
    "\n",
    "### This is a fruit list, ['banana', 'orange', 'mango', 'lemon'] reverse the order using loop.\n"
   ]
  },
  {
   "cell_type": "code",
   "execution_count": 8,
   "id": "4e41441b",
   "metadata": {},
   "outputs": [],
   "source": [
    "def reverse_list(input_list):\n",
    "    \n",
    "    list_reverse = []\n",
    "\n",
    "    for i in range((len(input_list))-1, -1, -1):\n",
    "        list_reverse.append(input_list[i])\n",
    "        \n",
    "    return list_reverse"
   ]
  },
  {
   "cell_type": "code",
   "execution_count": 9,
   "id": "65e6fee9",
   "metadata": {},
   "outputs": [
    {
     "name": "stdout",
     "output_type": "stream",
     "text": [
      "['lemon', 'mango', 'orange', 'banana']\n"
     ]
    }
   ],
   "source": [
    "print(reverse_list(input_list = ['banana', 'orange', 'mango', 'lemon']))"
   ]
  },
  {
   "cell_type": "markdown",
   "id": "912971aa",
   "metadata": {},
   "source": [
    "###### <a id='ex06'></a>\n",
    "# Exercise 06\n",
    "\n",
    "### Find the max element of the [ 8, 120, 83, 89, 24, 97.5, 201 ]"
   ]
  },
  {
   "cell_type": "code",
   "execution_count": 10,
   "id": "1d10431b",
   "metadata": {},
   "outputs": [
    {
     "data": {
      "text/plain": [
       "201"
      ]
     },
     "execution_count": 10,
     "metadata": {},
     "output_type": "execute_result"
    }
   ],
   "source": [
    "max([ 8, 120, 83, 89, 24, 97.5, 201 ])"
   ]
  },
  {
   "cell_type": "markdown",
   "id": "1edbbdbd",
   "metadata": {},
   "source": [
    "<a id='end'></a>\n",
    "# Finished, thanks for your attention 🙏🌹"
   ]
  }
 ],
 "metadata": {
  "kernelspec": {
   "display_name": "Python 3 (ipykernel)",
   "language": "python",
   "name": "python3"
  },
  "language_info": {
   "codemirror_mode": {
    "name": "ipython",
    "version": 3
   },
   "file_extension": ".py",
   "mimetype": "text/x-python",
   "name": "python",
   "nbconvert_exporter": "python",
   "pygments_lexer": "ipython3",
   "version": "3.9.12"
  }
 },
 "nbformat": 4,
 "nbformat_minor": 5
}
