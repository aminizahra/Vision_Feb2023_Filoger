{
 "cells": [
  {
   "cell_type": "markdown",
   "id": "282b2594",
   "metadata": {},
   "source": [
    "# Table of Contents\n",
    "\n",
    "\n",
    "01. [Necessary Libraries](#Lib)\n",
    "2. [Exercise 01](#ex01)\n",
    "3. [Exercise 02](#ex02)\n",
    "4. [Exercise 03](#ex03)\n",
    "5. [Exercise 04](#ex04)\n",
    "6. [The End](#end)\n"
   ]
  },
  {
   "cell_type": "markdown",
   "id": "b972d15b",
   "metadata": {},
   "source": [
    "<a id='Lib'></a>\n",
    "# Necessary Libraries"
   ]
  },
  {
   "cell_type": "code",
   "execution_count": 1,
   "id": "c35c8f20",
   "metadata": {},
   "outputs": [],
   "source": [
    "from sys import getsizeof as size    #EX03\n",
    "\n",
    "import time    #EX04"
   ]
  },
  {
   "cell_type": "markdown",
   "id": "79b61276",
   "metadata": {},
   "source": [
    "<a id='ex01'></a>\n",
    "# Exercise 01\n",
    "\n",
    "### What is the type of the following data?\n",
    "\n",
    "- \"Filoger\"\n",
    "- \"19.0\"\n",
    "- 18\n",
    "- 13.0\n",
    "- True"
   ]
  },
  {
   "cell_type": "code",
   "execution_count": 2,
   "id": "721fde39",
   "metadata": {},
   "outputs": [],
   "source": [
    "data = [\"Filoger\", \"19.0\", 18, 13.0, True]"
   ]
  },
  {
   "cell_type": "code",
   "execution_count": 3,
   "id": "708aa307",
   "metadata": {},
   "outputs": [
    {
     "name": "stdout",
     "output_type": "stream",
     "text": [
      "Type of datum is <class 'str'> \n",
      "\n",
      "Type of datum is <class 'str'> \n",
      "\n",
      "Type of datum is <class 'int'> \n",
      "\n",
      "Type of datum is <class 'float'> \n",
      "\n",
      "Type of datum is <class 'bool'> \n",
      "\n"
     ]
    }
   ],
   "source": [
    "for datum in data:\n",
    "    print(\"Type of datum is\" ,type(datum), \"\\n\")"
   ]
  },
  {
   "cell_type": "markdown",
   "id": "21b537b3",
   "metadata": {},
   "source": [
    "<a id='ex02'></a>\n",
    "# Exercise 02\n",
    "\n",
    "### Convert the following data to integer:\n",
    "\n",
    "- \"Filoger\"\n",
    "- \"19.0\"\n",
    "- 18\n",
    "- 13.0\n",
    "- True"
   ]
  },
  {
   "cell_type": "code",
   "execution_count": 4,
   "id": "3ee5ab6d",
   "metadata": {},
   "outputs": [
    {
     "name": "stdout",
     "output_type": "stream",
     "text": [
      "Oops!  We can't convert it to integer \n",
      "\n",
      "Oops!  We can't convert it to integer \n",
      "\n",
      "The integer format of 18 is 18 \n",
      "\n",
      "The integer format of 13.0 is 13 \n",
      "\n",
      "The integer format of True is 1 \n",
      "\n"
     ]
    }
   ],
   "source": [
    "for datum in data:\n",
    "    try:\n",
    "        print(\"The integer format of\", datum, \"is\", int(datum), \"\\n\")\n",
    "        \n",
    "    except ValueError:\n",
    "        print(\"Oops!  We can't convert it to integer\", \"\\n\")"
   ]
  },
  {
   "cell_type": "markdown",
   "id": "3d3bdaa5",
   "metadata": {},
   "source": [
    "<a id='ex03'></a>\n",
    "# Exercise 03\n",
    "\n",
    "### Print size of the following data in memory(bytes):\n",
    "\n",
    "- \"Filoger\"\n",
    "- \"19.0\"\n",
    "- 18\n",
    "- 13.0\n",
    "- True"
   ]
  },
  {
   "cell_type": "code",
   "execution_count": 5,
   "id": "837fd657",
   "metadata": {},
   "outputs": [
    {
     "name": "stdout",
     "output_type": "stream",
     "text": [
      "Size of Filoger in memory is 56 bytes \n",
      "\n",
      "Size of 19.0 in memory is 53 bytes \n",
      "\n",
      "Size of 18 in memory is 28 bytes \n",
      "\n",
      "Size of 13.0 in memory is 24 bytes \n",
      "\n",
      "Size of True in memory is 28 bytes \n",
      "\n"
     ]
    }
   ],
   "source": [
    "for datum in data:\n",
    "    print(\"Size of\", datum, \"in memory is\", size(datum), \"bytes\", \"\\n\")"
   ]
  },
  {
   "cell_type": "markdown",
   "id": "21a15130",
   "metadata": {},
   "source": [
    "<a id='ex04'></a>\n",
    "# Exercise 04\n",
    "\n",
    "### Print running time of program to find type of the following data:\n",
    "\n",
    "- \"Filoger\"\n",
    "- \"19.0\"\n",
    "- 18\n",
    "- 13.0\n",
    "- True"
   ]
  },
  {
   "cell_type": "code",
   "execution_count": 6,
   "id": "d070af67",
   "metadata": {},
   "outputs": [],
   "source": [
    "def RunTime(command):\n",
    "    start = time.time()\n",
    "    command\n",
    "    end = time.time()\n",
    "    print(\"The time of execution of the command is :\", (end-start), \"seconds\", \"\\n\")"
   ]
  },
  {
   "cell_type": "code",
   "execution_count": 7,
   "id": "97ae0b67",
   "metadata": {},
   "outputs": [
    {
     "name": "stdout",
     "output_type": "stream",
     "text": [
      "The time of execution of the command is : 0.0 seconds \n",
      "\n",
      "The time of execution of the command is : 0.0 seconds \n",
      "\n",
      "The time of execution of the command is : 0.0 seconds \n",
      "\n",
      "The time of execution of the command is : 0.0 seconds \n",
      "\n",
      "The time of execution of the command is : 0.0 seconds \n",
      "\n"
     ]
    }
   ],
   "source": [
    "for datum in data:\n",
    "    RunTime(type(datum))"
   ]
  },
  {
   "cell_type": "markdown",
   "id": "1edbbdbd",
   "metadata": {},
   "source": [
    "<a id='end'></a>\n",
    "# Finished, thanks for your attention 🙏🌹"
   ]
  }
 ],
 "metadata": {
  "kernelspec": {
   "display_name": "Python 3 (ipykernel)",
   "language": "python",
   "name": "python3"
  },
  "language_info": {
   "codemirror_mode": {
    "name": "ipython",
    "version": 3
   },
   "file_extension": ".py",
   "mimetype": "text/x-python",
   "name": "python",
   "nbconvert_exporter": "python",
   "pygments_lexer": "ipython3",
   "version": "3.9.13"
  }
 },
 "nbformat": 4,
 "nbformat_minor": 5
}
